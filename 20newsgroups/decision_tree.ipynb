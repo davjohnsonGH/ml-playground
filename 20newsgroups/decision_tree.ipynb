{
 "cells": [
  {
   "cell_type": "code",
   "execution_count": 1,
   "metadata": {},
   "outputs": [
    {
     "name": "stdout",
     "output_type": "stream",
     "text": [
      "Accuracy: 0.3467\n",
      "                          precision    recall  f1-score   support\n",
      "\n",
      "             alt.atheism       0.29      0.16      0.21       319\n",
      "           comp.graphics       0.61      0.30      0.40       389\n",
      " comp.os.ms-windows.misc       0.62      0.35      0.45       394\n",
      "comp.sys.ibm.pc.hardware       0.46      0.23      0.30       392\n",
      "   comp.sys.mac.hardware       0.52      0.36      0.43       385\n",
      "          comp.windows.x       0.66      0.35      0.46       395\n",
      "            misc.forsale       0.69      0.51      0.59       390\n",
      "               rec.autos       0.81      0.33      0.47       396\n",
      "         rec.motorcycles       0.87      0.32      0.47       398\n",
      "      rec.sport.baseball       0.64      0.30      0.41       397\n",
      "        rec.sport.hockey       0.66      0.48      0.55       399\n",
      "               sci.crypt       0.78      0.43      0.55       396\n",
      "         sci.electronics       0.08      0.81      0.15       393\n",
      "                 sci.med       0.72      0.24      0.36       396\n",
      "               sci.space       0.72      0.34      0.46       394\n",
      "  soc.religion.christian       0.55      0.42      0.48       398\n",
      "      talk.politics.guns       0.43      0.30      0.35       364\n",
      "   talk.politics.mideast       0.82      0.39      0.53       376\n",
      "      talk.politics.misc       0.17      0.04      0.06       310\n",
      "      talk.religion.misc       0.29      0.08      0.13       251\n",
      "\n",
      "                accuracy                           0.35      7532\n",
      "               macro avg       0.57      0.34      0.39      7532\n",
      "            weighted avg       0.58      0.35      0.40      7532\n",
      "\n"
     ]
    }
   ],
   "source": [
    "from sklearn.datasets import fetch_20newsgroups\n",
    "from sklearn.feature_extraction.text import TfidfVectorizer\n",
    "from sklearn.tree import DecisionTreeClassifier\n",
    "from sklearn.pipeline import Pipeline\n",
    "from sklearn.metrics import accuracy_score, classification_report\n",
    "\n",
    "# Step 1: Load the dataset\n",
    "categories = None  # Use all categories, or specify a subset, e.g., ['talk.politics.mideast', 'sci.space']\n",
    "newsgroups_train = fetch_20newsgroups(subset='train', categories=categories, remove=('headers', 'footers', 'quotes'))\n",
    "newsgroups_test = fetch_20newsgroups(subset='test', categories=categories, remove=('headers', 'footers', 'quotes'))\n",
    "\n",
    "# Step 2: Convert text to numerical features using TfidfVectorizer\n",
    "vectorizer = TfidfVectorizer(stop_words='english', max_features=5000)  # Adjust max_features for better performance\n",
    "\n",
    "# Step 3: Define and train DecisionTreeClassifier\n",
    "clf = DecisionTreeClassifier(max_depth=50, random_state=42)  # max_depth is set to prevent overfitting\n",
    "\n",
    "# Step 4: Create a pipeline for convenience\n",
    "pipeline = Pipeline([\n",
    "    ('tfidf', vectorizer),\n",
    "    ('clf', clf)\n",
    "])\n",
    "\n",
    "pipeline.fit(newsgroups_train.data, newsgroups_train.target)\n",
    "\n",
    "# Step 5: Evaluate on test data\n",
    "y_pred = pipeline.predict(newsgroups_test.data)\n",
    "accuracy = accuracy_score(newsgroups_test.target, y_pred)\n",
    "\n",
    "# Print evaluation metrics\n",
    "print(f\"Accuracy: {accuracy:.4f}\")\n",
    "print(classification_report(newsgroups_test.target, y_pred, target_names=newsgroups_test.target_names))\n"
   ]
  }
 ],
 "metadata": {
  "kernelspec": {
   "display_name": "ml-playground-vHb3yJkB",
   "language": "python",
   "name": "python3"
  },
  "language_info": {
   "codemirror_mode": {
    "name": "ipython",
    "version": 3
   },
   "file_extension": ".py",
   "mimetype": "text/x-python",
   "name": "python",
   "nbconvert_exporter": "python",
   "pygments_lexer": "ipython3",
   "version": "3.11.7"
  }
 },
 "nbformat": 4,
 "nbformat_minor": 2
}
