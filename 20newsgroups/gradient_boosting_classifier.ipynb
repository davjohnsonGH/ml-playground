{
 "cells": [
  {
   "cell_type": "code",
   "execution_count": 1,
   "metadata": {},
   "outputs": [
    {
     "name": "stdout",
     "output_type": "stream",
     "text": [
      "Accuracy: 0.5762\n",
      "                          precision    recall  f1-score   support\n",
      "\n",
      "             alt.atheism       0.43      0.36      0.39       319\n",
      "           comp.graphics       0.54      0.59      0.57       389\n",
      " comp.os.ms-windows.misc       0.60      0.56      0.58       394\n",
      "comp.sys.ibm.pc.hardware       0.56      0.55      0.56       392\n",
      "   comp.sys.mac.hardware       0.69      0.63      0.66       385\n",
      "          comp.windows.x       0.77      0.60      0.67       395\n",
      "            misc.forsale       0.68      0.69      0.68       390\n",
      "               rec.autos       0.67      0.58      0.62       396\n",
      "         rec.motorcycles       0.69      0.59      0.64       398\n",
      "      rec.sport.baseball       0.76      0.66      0.71       397\n",
      "        rec.sport.hockey       0.79      0.76      0.78       399\n",
      "               sci.crypt       0.79      0.57      0.66       396\n",
      "         sci.electronics       0.20      0.58      0.30       393\n",
      "                 sci.med       0.70      0.56      0.62       396\n",
      "               sci.space       0.72      0.63      0.67       394\n",
      "  soc.religion.christian       0.60      0.67      0.64       398\n",
      "      talk.politics.guns       0.52      0.55      0.53       364\n",
      "   talk.politics.mideast       0.82      0.63      0.71       376\n",
      "      talk.politics.misc       0.39      0.31      0.34       310\n",
      "      talk.religion.misc       0.31      0.20      0.24       251\n",
      "\n",
      "                accuracy                           0.58      7532\n",
      "               macro avg       0.61      0.56      0.58      7532\n",
      "            weighted avg       0.62      0.58      0.59      7532\n",
      "\n"
     ]
    }
   ],
   "source": [
    "from sklearn.datasets import fetch_20newsgroups\n",
    "from sklearn.feature_extraction.text import TfidfVectorizer\n",
    "from sklearn.ensemble import GradientBoostingClassifier\n",
    "from sklearn.pipeline import Pipeline\n",
    "from sklearn.metrics import accuracy_score, classification_report\n",
    "\n",
    "# Step 1: Load the dataset\n",
    "categories = None  # Use all categories, or specify a subset like ['comp.graphics', 'sci.space']\n",
    "newsgroups_train = fetch_20newsgroups(subset='train', categories=categories, remove=('headers', 'footers', 'quotes'))\n",
    "newsgroups_test = fetch_20newsgroups(subset='test', categories=categories, remove=('headers', 'footers', 'quotes'))\n",
    "\n",
    "# Step 2: Convert text to numerical features using TfidfVectorizer\n",
    "vectorizer = TfidfVectorizer(stop_words='english', max_features=5000)  # Limit features for efficiency\n",
    "\n",
    "# Step 3: Train GradientBoostingClassifier\n",
    "clf = GradientBoostingClassifier()\n",
    "\n",
    "# Step 4: Create a pipeline for convenience\n",
    "pipeline = Pipeline([\n",
    "    ('tfidf', vectorizer),\n",
    "    ('clf', clf)\n",
    "])\n",
    "\n",
    "pipeline.fit(newsgroups_train.data, newsgroups_train.target)\n",
    "\n",
    "# Step 5: Evaluate on test data\n",
    "y_pred = pipeline.predict(newsgroups_test.data)\n",
    "accuracy = accuracy_score(newsgroups_test.target, y_pred)\n",
    "\n",
    "# Print evaluation metrics\n",
    "print(f\"Accuracy: {accuracy:.4f}\")\n",
    "print(classification_report(newsgroups_test.target, y_pred, target_names=newsgroups_test.target_names))\n"
   ]
  }
 ],
 "metadata": {
  "kernelspec": {
   "display_name": "ml-playground-vHb3yJkB",
   "language": "python",
   "name": "python3"
  },
  "language_info": {
   "codemirror_mode": {
    "name": "ipython",
    "version": 3
   },
   "file_extension": ".py",
   "mimetype": "text/x-python",
   "name": "python",
   "nbconvert_exporter": "python",
   "pygments_lexer": "ipython3",
   "version": "3.11.7"
  }
 },
 "nbformat": 4,
 "nbformat_minor": 2
}
