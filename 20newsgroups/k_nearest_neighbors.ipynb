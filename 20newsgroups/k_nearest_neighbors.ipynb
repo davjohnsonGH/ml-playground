{
 "cells": [
  {
   "cell_type": "code",
   "execution_count": 2,
   "metadata": {},
   "outputs": [
    {
     "name": "stdout",
     "output_type": "stream",
     "text": [
      "Accuracy: 0.6222811671087534\n",
      "Classification Report:\n",
      "                          precision    recall  f1-score   support\n",
      "\n",
      "             alt.atheism       0.36      0.69      0.47       163\n",
      "           comp.graphics       0.48      0.54      0.51       200\n",
      " comp.os.ms-windows.misc       0.71      0.67      0.69       211\n",
      "comp.sys.ibm.pc.hardware       0.64      0.50      0.56       195\n",
      "   comp.sys.mac.hardware       0.65      0.50      0.57       179\n",
      "          comp.windows.x       0.60      0.66      0.63       221\n",
      "            misc.forsale       0.80      0.49      0.61       180\n",
      "               rec.autos       0.77      0.58      0.66       207\n",
      "         rec.motorcycles       0.83      0.67      0.74       189\n",
      "      rec.sport.baseball       0.88      0.63      0.73       186\n",
      "        rec.sport.hockey       0.86      0.69      0.77       197\n",
      "               sci.crypt       0.60      0.76      0.67       214\n",
      "         sci.electronics       0.83      0.47      0.60       182\n",
      "                 sci.med       0.78      0.48      0.59       196\n",
      "               sci.space       0.90      0.60      0.72       189\n",
      "  soc.religion.christian       0.50      0.69      0.58       206\n",
      "      talk.politics.guns       0.69      0.68      0.69       192\n",
      "   talk.politics.mideast       0.56      0.87      0.68       196\n",
      "      talk.politics.misc       0.38      0.67      0.49       159\n",
      "      talk.religion.misc       0.50      0.51      0.50       108\n",
      "\n",
      "                accuracy                           0.62      3770\n",
      "               macro avg       0.67      0.62      0.62      3770\n",
      "            weighted avg       0.67      0.62      0.63      3770\n",
      "\n"
     ]
    }
   ],
   "source": [
    "from sklearn.datasets import fetch_20newsgroups_vectorized #import data \n",
    "from sklearn.neighbors import KNeighborsClassifier #import classifier model \n",
    "from sklearn.model_selection import train_test_split #import train and test split api  \n",
    "from sklearn.metrics import accuracy_score, classification_report # show me the money \n",
    "\n",
    "# Load the vectorized dataset\n",
    "newsgroups = fetch_20newsgroups_vectorized(subset='all')\n",
    "X, y = newsgroups.data, newsgroups.target\n",
    "\n",
    "# Split data into training and testing sets\n",
    "X_train, X_test, y_train, y_test = train_test_split(X, y, test_size=0.2, random_state=42)\n",
    "\n",
    "# Train Nearest Neighbors Classifier\n",
    "clf = KNeighborsClassifier()\n",
    "clf.fit(X_train, y_train)\n",
    "\n",
    "# predict on the models taining or \"fitness\"\n",
    "y_pred = clf.predict(X_test)\n",
    "\n",
    "# Evaluate the model\n",
    "accuracy = accuracy_score(y_test, y_pred)\n",
    "report = classification_report(y_test, y_pred, target_names=newsgroups.target_names)\n",
    "\n",
    "print(f\"Accuracy: {accuracy}\")\n",
    "print(f\"Classification Report:\\n{report}\")"
   ]
  }
 ],
 "metadata": {
  "kernelspec": {
   "display_name": "ml-playground-vHb3yJkB",
   "language": "python",
   "name": "python3"
  },
  "language_info": {
   "codemirror_mode": {
    "name": "ipython",
    "version": 3
   },
   "file_extension": ".py",
   "mimetype": "text/x-python",
   "name": "python",
   "nbconvert_exporter": "python",
   "pygments_lexer": "ipython3",
   "version": "3.11.7"
  }
 },
 "nbformat": 4,
 "nbformat_minor": 2
}
