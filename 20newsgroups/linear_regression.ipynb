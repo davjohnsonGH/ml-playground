{
 "cells": [
  {
   "cell_type": "code",
   "execution_count": 12,
   "metadata": {},
   "outputs": [
    {
     "name": "stdout",
     "output_type": "stream",
     "text": [
      "Mean absolute error (MAE): 2.83\n",
      "Mean Squared Error (MAE): 15.18\n",
      "R-squared (r2): 0.51\n",
      "Root Mean Squared Error (rmse): 3.90\n"
     ]
    }
   ],
   "source": [
    "import numpy as np\n",
    "from sklearn.datasets import fetch_20newsgroups_vectorized #import data \n",
    "from sklearn.linear_model import LinearRegression #import classifier model \n",
    "from sklearn.model_selection import train_test_split #import train and test split api  \n",
    "from sklearn.metrics import (\n",
    "    mean_absolute_error,\n",
    "    mean_squared_error,\n",
    "    r2_score\n",
    ") # show me the money \n",
    "\n",
    "# Load the vectorized dataset\n",
    "newsgroups = fetch_20newsgroups_vectorized(subset='all')\n",
    "X, y = newsgroups.data, newsgroups.target\n",
    "\n",
    "# Split data into training and testing sets\n",
    "X_train, X_test, y_train, y_test = train_test_split(X, y, test_size=0.2, random_state=42)\n",
    "\n",
    "# Train Nearest Neighbors Classifier\n",
    "clf = LinearRegression()\n",
    "clf.fit(X_train, y_train)\n",
    "\n",
    "# predict on the models taining or \"fitness\"\n",
    "y_pred = clf.predict(X_test)\n",
    "\n",
    "# Evaluate the model\n",
    "mae = mean_absolute_error(y_test, y_pred)\n",
    "mse = mean_squared_error(y_test, y_pred)\n",
    "r2 = r2_score(y_test, y_pred)\n",
    "rmse = np.sqrt(mse)\n",
    "# print results \n",
    "print(f\"Mean absolute error (MAE): {mae:.2f}\")\n",
    "print(f\"Mean Squared Error (MAE): {mse:.2f}\")\n",
    "print(f\"R-squared (r2): {r2:.2f}\")\n",
    "print(f\"Root Mean Squared Error (rmse): {rmse:.2f}\")"
   ]
  }
 ],
 "metadata": {
  "kernelspec": {
   "display_name": "ml-playground-vHb3yJkB",
   "language": "python",
   "name": "python3"
  },
  "language_info": {
   "codemirror_mode": {
    "name": "ipython",
    "version": 3
   },
   "file_extension": ".py",
   "mimetype": "text/x-python",
   "name": "python",
   "nbconvert_exporter": "python",
   "pygments_lexer": "ipython3",
   "version": "3.11.7"
  }
 },
 "nbformat": 4,
 "nbformat_minor": 2
}
