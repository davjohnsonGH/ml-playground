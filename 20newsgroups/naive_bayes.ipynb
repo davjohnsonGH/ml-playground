{
 "cells": [
  {
   "cell_type": "code",
   "execution_count": null,
   "metadata": {},
   "outputs": [
    {
     "name": "stdout",
     "output_type": "stream",
     "text": [
      "Accuracy: 0.8\n",
      "Classification Report:\n",
      "                          precision    recall  f1-score   support\n",
      "\n",
      "             alt.atheism       0.88      0.42      0.57       163\n",
      "           comp.graphics       0.81      0.74      0.77       200\n",
      " comp.os.ms-windows.misc       0.91      0.78      0.84       211\n",
      "comp.sys.ibm.pc.hardware       0.69      0.84      0.76       195\n",
      "   comp.sys.mac.hardware       0.89      0.79      0.84       179\n",
      "          comp.windows.x       0.92      0.77      0.84       221\n",
      "            misc.forsale       0.91      0.74      0.82       180\n",
      "               rec.autos       0.88      0.91      0.90       207\n",
      "         rec.motorcycles       0.82      0.94      0.88       189\n",
      "      rec.sport.baseball       0.88      0.97      0.92       186\n",
      "        rec.sport.hockey       0.93      0.97      0.95       197\n",
      "               sci.crypt       0.74      0.96      0.84       214\n",
      "         sci.electronics       0.74      0.79      0.76       182\n",
      "                 sci.med       0.85      0.89      0.87       196\n",
      "               sci.space       0.85      0.91      0.88       189\n",
      "  soc.religion.christian       0.48      0.97      0.65       206\n",
      "      talk.politics.guns       0.75      0.89      0.81       192\n",
      "   talk.politics.mideast       0.93      0.92      0.93       196\n",
      "      talk.politics.misc       1.00      0.24      0.39       159\n",
      "      talk.religion.misc       1.00      0.01      0.02       108\n",
      "\n",
      "                accuracy                           0.80      3770\n",
      "               macro avg       0.84      0.77      0.76      3770\n",
      "            weighted avg       0.84      0.80      0.78      3770\n",
      "\n"
     ]
    }
   ],
   "source": [
    "from sklearn.datasets import fetch_20newsgroups_vectorized\n",
    "from sklearn.model_selection import train_test_split\n",
    "from sklearn.naive_bayes import MultinomialNB\n",
    "from sklearn.metrics import accuracy_score, classification_report\n",
    "\n",
    "# Load the vectorized dataset\n",
    "newsgroups = fetch_20newsgroups_vectorized(subset='all')\n",
    "X, y = newsgroups.data, newsgroups.target\n",
    "\n",
    "# Split data into training and testing sets\n",
    "X_train, X_test, y_train, y_test = train_test_split(X, y, test_size=0.2, random_state=42)\n",
    "\n",
    "# Train Multinomial Naive Bayes classifier\n",
    "clf = MultinomialNB()\n",
    "clf.fit(X_train, y_train)\n",
    "\n",
    "# Predict on the test set\n",
    "y_pred = clf.predict(X_test)\n",
    "\n",
    "# Evaluate the model\n",
    "accuracy = accuracy_score(y_test, y_pred)\n",
    "report = classification_report(y_test, y_pred, target_names=newsgroups.target_names)\n",
    "\n",
    "\n",
    "print(f\"Accuracy: {accuracy}\")\n",
    "print(f\"Classification Report:\\n{report}\")"
   ]
  }
 ],
 "metadata": {
  "kernelspec": {
   "display_name": "ml-playground-vHb3yJkB",
   "language": "python",
   "name": "python3"
  },
  "language_info": {
   "codemirror_mode": {
    "name": "ipython",
    "version": 3
   },
   "file_extension": ".py",
   "mimetype": "text/x-python",
   "name": "python",
   "nbconvert_exporter": "python",
   "pygments_lexer": "ipython3",
   "version": "3.11.7"
  }
 },
 "nbformat": 4,
 "nbformat_minor": 2
}
