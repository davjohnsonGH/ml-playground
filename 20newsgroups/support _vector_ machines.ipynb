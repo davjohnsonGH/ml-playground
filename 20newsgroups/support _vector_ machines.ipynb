{
 "cells": [
  {
   "cell_type": "code",
   "execution_count": null,
   "metadata": {},
   "outputs": [
    {
     "name": "stdout",
     "output_type": "stream",
     "text": [
      "Accuracy: 0.8655172413793103\n",
      "Classification Report:\n",
      "                          precision    recall  f1-score   support\n",
      "\n",
      "             alt.atheism       0.88      0.79      0.83       163\n",
      "           comp.graphics       0.70      0.86      0.77       200\n",
      " comp.os.ms-windows.misc       0.89      0.83      0.86       211\n",
      "comp.sys.ibm.pc.hardware       0.78      0.82      0.80       195\n",
      "   comp.sys.mac.hardware       0.87      0.84      0.85       179\n",
      "          comp.windows.x       0.85      0.84      0.84       221\n",
      "            misc.forsale       0.82      0.90      0.86       180\n",
      "               rec.autos       0.86      0.90      0.88       207\n",
      "         rec.motorcycles       0.95      0.87      0.91       189\n",
      "      rec.sport.baseball       0.86      0.94      0.90       186\n",
      "        rec.sport.hockey       0.97      0.94      0.95       197\n",
      "               sci.crypt       0.97      0.89      0.93       214\n",
      "         sci.electronics       0.76      0.84      0.80       182\n",
      "                 sci.med       0.86      0.86      0.86       196\n",
      "               sci.space       0.96      0.87      0.91       189\n",
      "  soc.religion.christian       0.85      0.92      0.88       206\n",
      "      talk.politics.guns       0.89      0.90      0.89       192\n",
      "   talk.politics.mideast       0.95      0.93      0.94       196\n",
      "      talk.politics.misc       0.85      0.84      0.84       159\n",
      "      talk.religion.misc       0.86      0.59      0.70       108\n",
      "\n",
      "                accuracy                           0.87      3770\n",
      "               macro avg       0.87      0.86      0.86      3770\n",
      "            weighted avg       0.87      0.87      0.87      3770\n",
      "\n"
     ]
    }
   ],
   "source": [
    "from sklearn.datasets import fetch_20newsgroups_vectorized #import data\n",
    "from sklearn.svm import SVC #import classifier model\n",
    "from sklearn.model_selection import train_test_split #import train and test split api\n",
    "from sklearn.metrics import accuracy_score, classification_report # show me the money\n",
    "\n",
    "# Load the vectorized dataset\n",
    "newsgroups = fetch_20newsgroups_vectorized(subset='all')\n",
    "X, y = newsgroups.data, newsgroups.target\n",
    "\n",
    "# Split data into training and testing sets\n",
    "X_train, X_test, y_train, y_test = train_test_split(X, y, test_size=0.2, random_state=42)\n",
    "\n",
    "# Train Nearest Neighbors Classifier\n",
    "clf = SVC()\n",
    "clf.fit(X_train, y_train)\n",
    "\n",
    "# predict on the models taining or \"fitness\"\n",
    "y_pred = clf.predict(X_test)\n",
    "\n",
    "# Evaluate the model\n",
    "accuracy = accuracy_score(y_test, y_pred)\n",
    "report = classification_report(y_test, y_pred, target_names=newsgroups.target_names)\n",
    "\n",
    "print(f\"Accuracy: {accuracy}\")\n",
    "print(f\"Classification Report:\\n{report}\")\n"
   ]
  }
 ],
 "metadata": {
  "kernelspec": {
   "display_name": "ml-playground-vHb3yJkB",
   "language": "python",
   "name": "python3"
  },
  "language_info": {
   "codemirror_mode": {
    "name": "ipython",
    "version": 3
   },
   "file_extension": ".py",
   "mimetype": "text/x-python",
   "name": "python",
   "nbconvert_exporter": "python",
   "pygments_lexer": "ipython3",
   "version": "3.11.7"
  }
 },
 "nbformat": 4,
 "nbformat_minor": 2
}
